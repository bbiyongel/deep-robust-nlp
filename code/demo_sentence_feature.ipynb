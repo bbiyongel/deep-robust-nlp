{
 "cells": [
  {
   "cell_type": "markdown",
   "metadata": {},
   "source": [
    "### Get Sentence feature from a pretrained model"
   ]
  },
  {
   "cell_type": "code",
   "execution_count": 1,
   "metadata": {},
   "outputs": [
    {
     "name": "stdout",
     "output_type": "stream",
     "text": [
      "Packages loaded.\n"
     ]
    }
   ],
   "source": [
    "import os,re\n",
    "import tensorflow as tf\n",
    "import tensorflow_hub as hub\n",
    "import matplotlib.pyplot as plt\n",
    "import numpy as np\n",
    "import pandas as pd\n",
    "import seaborn as sns\n",
    "print (\"Packages loaded.\")"
   ]
  },
  {
   "cell_type": "markdown",
   "metadata": {},
   "source": [
    "### Get dataset"
   ]
  },
  {
   "cell_type": "code",
   "execution_count": 2,
   "metadata": {},
   "outputs": [
    {
     "data": {
      "text/html": [
       "<div>\n",
       "<style scoped>\n",
       "    .dataframe tbody tr th:only-of-type {\n",
       "        vertical-align: middle;\n",
       "    }\n",
       "\n",
       "    .dataframe tbody tr th {\n",
       "        vertical-align: top;\n",
       "    }\n",
       "\n",
       "    .dataframe thead th {\n",
       "        text-align: right;\n",
       "    }\n",
       "</style>\n",
       "<table border=\"1\" class=\"dataframe\">\n",
       "  <thead>\n",
       "    <tr style=\"text-align: right;\">\n",
       "      <th></th>\n",
       "      <th>sentence</th>\n",
       "      <th>sentiment</th>\n",
       "      <th>polarity</th>\n",
       "    </tr>\n",
       "  </thead>\n",
       "  <tbody>\n",
       "    <tr>\n",
       "      <th>0</th>\n",
       "      <td>My Take: A goofy, yet imaginative mess. &lt;br /&gt;...</td>\n",
       "      <td>7</td>\n",
       "      <td>1</td>\n",
       "    </tr>\n",
       "    <tr>\n",
       "      <th>1</th>\n",
       "      <td>The first film had little ambition so nothing ...</td>\n",
       "      <td>10</td>\n",
       "      <td>1</td>\n",
       "    </tr>\n",
       "    <tr>\n",
       "      <th>2</th>\n",
       "      <td>I have to finish watching a movie once I start...</td>\n",
       "      <td>1</td>\n",
       "      <td>0</td>\n",
       "    </tr>\n",
       "    <tr>\n",
       "      <th>3</th>\n",
       "      <td>Omen IV (1991) was a bad made-for-T.V. movie. ...</td>\n",
       "      <td>1</td>\n",
       "      <td>0</td>\n",
       "    </tr>\n",
       "    <tr>\n",
       "      <th>4</th>\n",
       "      <td>I had watched this film from Ralph Bakshi (Wiz...</td>\n",
       "      <td>10</td>\n",
       "      <td>1</td>\n",
       "    </tr>\n",
       "  </tbody>\n",
       "</table>\n",
       "</div>"
      ],
      "text/plain": [
       "                                            sentence sentiment  polarity\n",
       "0  My Take: A goofy, yet imaginative mess. <br />...         7         1\n",
       "1  The first film had little ambition so nothing ...        10         1\n",
       "2  I have to finish watching a movie once I start...         1         0\n",
       "3  Omen IV (1991) was a bad made-for-T.V. movie. ...         1         0\n",
       "4  I had watched this film from Ralph Bakshi (Wiz...        10         1"
      ]
     },
     "execution_count": 2,
     "metadata": {},
     "output_type": "execute_result"
    }
   ],
   "source": [
    "# Load all files from a directory in a DataFrame.\n",
    "def load_directory_data(directory):\n",
    "    data = {}\n",
    "    data[\"sentence\"] = []\n",
    "    data[\"sentiment\"] = []\n",
    "    for file_path in os.listdir(directory):\n",
    "        with tf.gfile.GFile(os.path.join(directory, file_path), \"r\") as f:\n",
    "            data[\"sentence\"].append(f.read())\n",
    "            data[\"sentiment\"].append(re.match(\"\\d+_(\\d+)\\.txt\", file_path).group(1))\n",
    "    return pd.DataFrame.from_dict(data)\n",
    "\n",
    "# Merge positive and negative examples, add a polarity column and shuffle.\n",
    "def load_dataset(directory):\n",
    "    pos_df = load_directory_data(os.path.join(directory, \"pos\"))\n",
    "    neg_df = load_directory_data(os.path.join(directory, \"neg\"))\n",
    "    pos_df[\"polarity\"] = 1\n",
    "    neg_df[\"polarity\"] = 0\n",
    "    return pd.concat([pos_df, neg_df]).sample(frac=1).reset_index(drop=True)\n",
    "\n",
    "# Download and process the dataset files.\n",
    "def download_and_load_datasets(force_download=False):\n",
    "    dataset = tf.keras.utils.get_file(\n",
    "        fname=\"aclImdb.tar.gz\", \n",
    "        origin=\"http://ai.stanford.edu/~amaas/data/sentiment/aclImdb_v1.tar.gz\", \n",
    "        extract=True)\n",
    "\n",
    "    train_df = load_dataset(os.path.join(os.path.dirname(dataset), \n",
    "                                       \"aclImdb\", \"train\"))\n",
    "    test_df = load_dataset(os.path.join(os.path.dirname(dataset), \n",
    "                                      \"aclImdb\", \"test\"))\n",
    "    return train_df, test_df\n",
    "\n",
    "# Reduce logging output.\n",
    "tf.logging.set_verbosity(tf.logging.ERROR)\n",
    "train_df, test_df = download_and_load_datasets()\n",
    "train_df.head()"
   ]
  },
  {
   "cell_type": "markdown",
   "metadata": {},
   "source": [
    "### Check dataset"
   ]
  },
  {
   "cell_type": "code",
   "execution_count": 3,
   "metadata": {
    "scrolled": true
   },
   "outputs": [
    {
     "name": "stdout",
     "output_type": "stream",
     "text": [
      "0 : My Take: A goofy, yet imaginative mess. <br /><br />Keanu Reeves (Yes! That Keanu Reeves) and Alex Winter return as the two punk-rock idiots in this sequel to the time-trotting adventure comedy BILL AND TED'S EXCELLENT ADVENTURE, now a cult classic. In this sequel, Bill and Ted are given much more to do than travel through time. They might as well travel Heaven and Hell too! During the beginning of this sequel, Bill and Ted are preparing for a \"Battle of the Bands\" competition which may make them more famous than ever. Meanwhile, many years in a futuristic civilization, the time-wizard from the first film (the always watchable George Carlin) is running a university praising Bill and Ted's names. There, an evil tyrant (Joss Ackland, from THE HUNT FOR RED October) plots to get rid of the two idiot rock-stars once and for all. So he sends two identical android replicas (In the words of Bill and Ted: Robot Us's) to do the dirty job.<br /><br />There after, Bill and Ted experience death and must find their way through Hell, with inhabitants that happens to include the duo's worst memories, and then through Heaven in an attempt to get back to earth to save their girlfriends... and their show. Along this whacked-out voyage, they play board games with none other than Death (William Sadler, from DIE HARD 2), reminiscent to a similar moment in the 1957 foreign film classic THE SEVENTH SEAL, aid help from a couple of intelligent alien beings and more.<br /><br />BOGUS JOURNEY's array of exuberant special effects gimmicks aren't up to to-date standards, and even some of the humor and the for-the-time look and feel are somewhat dated (to be honest, the film also feels like it was released on the wrong year, even for the 90's). But with it's no little lack of imagination and a lively turn by both the performances and direction, BILL AND TED'S BOGUS JOURNEY is fun, imaginative, and yes, bogus.<br /><br />Rating: ***1/2 out of 5.\n",
      "1 : The first film had little ambition so nothing sticks to the screen. It was a bad version of 'Back to the Future' with zero charm. Once accepted that Bill & Ted are nitwits, the joke can only get hammered at the audience for so long before it breaks.<br /><br />This is a surprise. This is your only spoiler warning...<br /><br />By today's standards, this is more fun. This was shunned upon release, sad considering that more talent is involved than the first time. We get the photographer of 'Face/Off', the editor of 'Fugitive', a production designer from Burton's early work, and the sound designer of 'Matrix'.<br /><br />The writers made up for their shallow first outing with something deep. Since this was shunned by the fanbase and public, the director probably decided the style was too extreme. It's not, it fits the material. Like 'Death Becomes Her' and 'Catch-22', this dares to be smart, but we like our movies \"simple\" so we don't buy it. Probably since this dared to be different is why it took 12 producers to pull it off. What's so good?<br /><br />--Nice self-reference towards Keanu; from airhead to Messiah. See also Arnold Schwarzenegger.<br /><br />--Joss hates his creations as much as he hates their counterparts, he makes his own hatred. The Evil B&T and the \"good robot usses\" have the same vocabulary as their originals: lesser copies and depreciation of language.<br /><br />--The \"duality\" motif. Nowhere else is this evident than in the photography styles, lots of high and low angles. They even use Roy Brocksmith from 'Total Recall' to emphasize the point.<br /><br />--The \"choices\" motif. I don't know where this started in the genre (maybe 'Ghostbusters'), but it's used pretty well here. It even boils down to the 7 games against death--Battleship and Club.<br /><br />--Film self-reference, even present in the game against Death (Clue). This is smarter than Tarantino or Brooks. Notice the Premier magazine cover at the end: \"Bill and Ted: The Movie.\" Ironic also how Death and Nomolos were villains in the 'Die Hard' and 'Lethal Weapon' sequels.<br /><br />I still have some minor nits, but nothing compared to the original. Music and film are different mediums so it makes no sense why many scripts revolve around the former--particularly in the teen market. Carlin is a great comedian, but in these movies he's wasted. Also, for all the daring this effort shows, even cracking gay jokes, they can't kill a cat?<br /><br />So, despite looking like a Nickelodeon production, this is incredibly interesting. From this movie we got Beavis and Butt-Head. \"We're in Heaven and we just mugged three people.\" <br /><br />Final Analysis = = Midrange Material\n",
      "0 : 1\n",
      "1 : 1\n"
     ]
    }
   ],
   "source": [
    "for i in range(2):\n",
    "    print (i,':',train_df['sentence'][i])\n",
    "for i in range(2):\n",
    "    print (i,':',train_df['polarity'][i])"
   ]
  },
  {
   "cell_type": "markdown",
   "metadata": {},
   "source": [
    "### Get feature"
   ]
  },
  {
   "cell_type": "code",
   "execution_count": 4,
   "metadata": {},
   "outputs": [
    {
     "name": "stdout",
     "output_type": "stream",
     "text": [
      "Shapes of 'x_train' and 'x_test' are (25000, 128) and (25000, 128).\n",
      "Shapes of 'y_train' and 'y_test' are (25000, 2) and (25000, 2).\n"
     ]
    }
   ],
   "source": [
    "embed_module = hub.Module(\"https://tfhub.dev/google/nnlm-en-dim128/1\")\n",
    "embed_train = embed_module(tf.reshape(train_df[\"sentence\"], shape=[-1]))\n",
    "embed_test = embed_module(tf.reshape(test_df[\"sentence\"], shape=[-1]))\n",
    "with tf.train.MonitoredTrainingSession(is_chief=True) as sess:\n",
    "    x_train = sess.run(embed_train)\n",
    "    x_test = sess.run(embed_test)\n",
    "n_train,n_test = np.shape(x_train)[0],np.shape(x_test)[0]\n",
    "y_train,y_test = np.zeros((n_train,2)),np.zeros((n_test,2))\n",
    "for i in range(n_train):\n",
    "    y_train[train_df['polarity'][0]] = 1\n",
    "for i in range(n_test):\n",
    "    y_test[test_df['polarity'][0]] = 1    \n",
    "print(\"Shapes of 'x_train' and 'x_test' are %s and %s.\"%\n",
    "      (x_train.shape,x_test.shape)) # (result: (1, 128))    \n",
    "print(\"Shapes of 'y_train' and 'y_test' are %s and %s.\"%\n",
    "      (y_train.shape,y_test.shape)) # (result: (1, 128))    "
   ]
  },
  {
   "cell_type": "code",
   "execution_count": null,
   "metadata": {},
   "outputs": [],
   "source": []
  }
 ],
 "metadata": {
  "kernelspec": {
   "display_name": "Python 3",
   "language": "python",
   "name": "python3"
  },
  "language_info": {
   "codemirror_mode": {
    "name": "ipython",
    "version": 3
   },
   "file_extension": ".py",
   "mimetype": "text/x-python",
   "name": "python",
   "nbconvert_exporter": "python",
   "pygments_lexer": "ipython3",
   "version": "3.5.2"
  }
 },
 "nbformat": 4,
 "nbformat_minor": 2
}
