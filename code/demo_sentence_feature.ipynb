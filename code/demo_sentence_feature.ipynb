{
 "cells": [
  {
   "cell_type": "markdown",
   "metadata": {},
   "source": [
    "### Get Sentence feature from a pretrained model"
   ]
  },
  {
   "cell_type": "code",
   "execution_count": 1,
   "metadata": {},
   "outputs": [
    {
     "name": "stdout",
     "output_type": "stream",
     "text": [
      "Packages loaded.\n"
     ]
    }
   ],
   "source": [
    "import os\n",
    "import tensorflow as tf\n",
    "import tensorflow.contrib.slim as slim\n",
    "import tensorflow_hub as hub\n",
    "import matplotlib.pyplot as plt\n",
    "import numpy as np\n",
    "from util import load_directory_data,load_dataset,download_and_load_datasets,gpusession\n",
    "from mlp_cls_class import mlp_cls_class\n",
    "print (\"Packages loaded.\")"
   ]
  },
  {
   "cell_type": "markdown",
   "metadata": {},
   "source": [
    "### Get feature"
   ]
  },
  {
   "cell_type": "code",
   "execution_count": null,
   "metadata": {
    "scrolled": true
   },
   "outputs": [
    {
     "name": "stdout",
     "output_type": "stream",
     "text": [
      "0 : \"Inspirational\" tales about \"triumph of the human spirit\" are usually big turn-offs for me. The most surprising thing about MEN OF HONOR is how much I enjoyed it in spite of myself. The movie is as predictable and cliched as it gets, but it works. Much credit goes to the exhilarating performances by both leads. It's a perfect role for Cuba Gooding, Jr., who's wonderfully restrained here. We have come to expect a lot from De Niro, and he doesn't disappoint. He creates a darkly funny portrait. Director George Tillman, Jr. set out to make an old-style flick and comes up with a winner. \n",
      "\n",
      "1 : This movie has it all. Sight gags, subtle jokes, play on words and verses. It is about a rag tag group of boys from different ethnic and social classes that come together to defeat a common enemy. If you watch this more than once, you will find you are quoting it like Animal House (and yes I love Animal House also). I put in the top 15 funniest movies. The Major at a boys military academy is paranoid that every kid is bad and wants to cause trouble (in this movie he is right). He is sadistic, uncaring, cruel and has to be taken down. The group of boys that do not get along at first, end up teaming together to survive and get rid of the Major with a wacky plan only Mad Magazine could of wrote. A must see - you will love it! \n",
      "\n",
      "0 : 1\n",
      "1 : 1\n"
     ]
    }
   ],
   "source": [
    "# Download dataset\n",
    "tf.logging.set_verbosity(tf.logging.ERROR) # Reduce logging output.\n",
    "train_df, test_df = download_and_load_datasets()\n",
    "# Check dataset\n",
    "for i in range(2):\n",
    "    print (i,':',train_df['sentence'][i],'\\n')\n",
    "for i in range(2):\n",
    "    print (i,':',train_df['polarity'][i])\n",
    "embed_module = hub.Module(\"https://tfhub.dev/google/nnlm-en-dim128/1\")\n",
    "embed_train = embed_module(tf.reshape(train_df[\"sentence\"], shape=[-1]))\n",
    "embed_test = embed_module(tf.reshape(test_df[\"sentence\"], shape=[-1]))\n",
    "with tf.train.MonitoredTrainingSession(is_chief=True) as sess:\n",
    "    x_train = sess.run(embed_train)\n",
    "    x_test = sess.run(embed_test)\n",
    "n_train,n_test = np.shape(x_train)[0],np.shape(x_test)[0]\n",
    "t_train,t_test = np.zeros((n_train,2)),np.zeros((n_test,2))\n",
    "for i in range(n_train):\n",
    "    t_train[i,train_df['polarity'][i]] = 1\n",
    "for i in range(n_test):\n",
    "    t_test[i,test_df['polarity'][i]] = 1    \n",
    "print(\"Shapes of 'x_train' and 'x_test' are %s and %s.\"%\n",
    "      (x_train.shape,x_test.shape)) # (result: (1, 128))    \n",
    "print(\"Shapes of 't_train' and 't_test' are %s and %s.\"%\n",
    "      (t_train.shape,t_test.shape)) # (result: (1, 128))    "
   ]
  },
  {
   "cell_type": "code",
   "execution_count": null,
   "metadata": {},
   "outputs": [],
   "source": []
  }
 ],
 "metadata": {
  "kernelspec": {
   "display_name": "Python 3",
   "language": "python",
   "name": "python3"
  },
  "language_info": {
   "codemirror_mode": {
    "name": "ipython",
    "version": 3
   },
   "file_extension": ".py",
   "mimetype": "text/x-python",
   "name": "python",
   "nbconvert_exporter": "python",
   "pygments_lexer": "ipython3",
   "version": "3.5.2"
  }
 },
 "nbformat": 4,
 "nbformat_minor": 2
}
