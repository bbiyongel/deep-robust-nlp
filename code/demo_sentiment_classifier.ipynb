{
 "cells": [
  {
   "cell_type": "markdown",
   "metadata": {},
   "source": [
    "### Text classifier (a simple sentiment classifier ) using Large Movie Review Dataset"
   ]
  },
  {
   "cell_type": "code",
   "execution_count": 1,
   "metadata": {},
   "outputs": [
    {
     "name": "stdout",
     "output_type": "stream",
     "text": [
      "Packages loaded.\n"
     ]
    }
   ],
   "source": [
    "import tensorflow as tf\n",
    "import tensorflow_hub as hub\n",
    "import matplotlib.pyplot as plt\n",
    "import numpy as np\n",
    "import os\n",
    "import pandas as pd\n",
    "import seaborn as sns\n",
    "from util import load_directory_data,load_dataset,download_and_load_datasets\n",
    "print (\"Packages loaded.\")"
   ]
  },
  {
   "cell_type": "markdown",
   "metadata": {},
   "source": [
    "### Get dataset"
   ]
  },
  {
   "cell_type": "code",
   "execution_count": 2,
   "metadata": {},
   "outputs": [
    {
     "data": {
      "text/html": [
       "<div>\n",
       "<style scoped>\n",
       "    .dataframe tbody tr th:only-of-type {\n",
       "        vertical-align: middle;\n",
       "    }\n",
       "\n",
       "    .dataframe tbody tr th {\n",
       "        vertical-align: top;\n",
       "    }\n",
       "\n",
       "    .dataframe thead th {\n",
       "        text-align: right;\n",
       "    }\n",
       "</style>\n",
       "<table border=\"1\" class=\"dataframe\">\n",
       "  <thead>\n",
       "    <tr style=\"text-align: right;\">\n",
       "      <th></th>\n",
       "      <th>sentence</th>\n",
       "      <th>sentiment</th>\n",
       "      <th>polarity</th>\n",
       "    </tr>\n",
       "  </thead>\n",
       "  <tbody>\n",
       "    <tr>\n",
       "      <th>0</th>\n",
       "      <td>Never before have the motives of the producers...</td>\n",
       "      <td>1</td>\n",
       "      <td>0</td>\n",
       "    </tr>\n",
       "    <tr>\n",
       "      <th>1</th>\n",
       "      <td>i saw switching goals ..twice....and always th...</td>\n",
       "      <td>3</td>\n",
       "      <td>0</td>\n",
       "    </tr>\n",
       "    <tr>\n",
       "      <th>2</th>\n",
       "      <td>\"FULL HOUSE,\" in my opinion, is an absolute AB...</td>\n",
       "      <td>9</td>\n",
       "      <td>1</td>\n",
       "    </tr>\n",
       "    <tr>\n",
       "      <th>3</th>\n",
       "      <td>I thought \"Intensive Care\" was quite bad and v...</td>\n",
       "      <td>3</td>\n",
       "      <td>0</td>\n",
       "    </tr>\n",
       "    <tr>\n",
       "      <th>4</th>\n",
       "      <td>I have rarely been subjected to such outright ...</td>\n",
       "      <td>1</td>\n",
       "      <td>0</td>\n",
       "    </tr>\n",
       "  </tbody>\n",
       "</table>\n",
       "</div>"
      ],
      "text/plain": [
       "                                            sentence sentiment  polarity\n",
       "0  Never before have the motives of the producers...         1         0\n",
       "1  i saw switching goals ..twice....and always th...         3         0\n",
       "2  \"FULL HOUSE,\" in my opinion, is an absolute AB...         9         1\n",
       "3  I thought \"Intensive Care\" was quite bad and v...         3         0\n",
       "4  I have rarely been subjected to such outright ...         1         0"
      ]
     },
     "execution_count": 2,
     "metadata": {},
     "output_type": "execute_result"
    }
   ],
   "source": [
    "# Reduce logging output.\n",
    "tf.logging.set_verbosity(tf.logging.ERROR)\n",
    "train_df, test_df = download_and_load_datasets()\n",
    "train_df.head()"
   ]
  },
  {
   "cell_type": "code",
   "execution_count": 3,
   "metadata": {
    "scrolled": true
   },
   "outputs": [
    {
     "data": {
      "text/plain": [
       "0        Never before have the motives of the producers...\n",
       "1        i saw switching goals ..twice....and always th...\n",
       "2        \"FULL HOUSE,\" in my opinion, is an absolute AB...\n",
       "3        I thought \"Intensive Care\" was quite bad and v...\n",
       "4        I have rarely been subjected to such outright ...\n",
       "5        After Disney's witty live-action George of the...\n",
       "6        Not a bad film. Somehow I was made to actually...\n",
       "7        I sought out a copy of The Forest because I wa...\n",
       "8        Fans of the HBO series \"Tales From the Crypt\" ...\n",
       "9        The film is poorly casted, except for some fam...\n",
       "10       Of all the reviews I've read, most people have...\n",
       "11       Perhaps I would have liked this film more if I...\n",
       "12       T.Z. Post, college professor, receives a false...\n",
       "13       Jake's Closet has the emotional power of Krame...\n",
       "14       CAT SOUP is a short anime based on the legenda...\n",
       "15       This is a film exploring the female sexuality ...\n",
       "16       A surprisingly effective thriller, this.<br />...\n",
       "17       Another variation and improvisation on the fam...\n",
       "18       Daraar got off to a pretty good start. The fir...\n",
       "19       For fans of 1970s Hammer type horror films, th...\n",
       "20       Considering the limits of this film (The entir...\n",
       "21       Dave (Devon Sawa) and his friends Sam (Jason S...\n",
       "22       on the contrary to the person listed above me ...\n",
       "23       I have only recently been able to catch up wit...\n",
       "24       Maybe I loved this movie so much in part becau...\n",
       "25       This was the WORST Christmas movie I ever saw....\n",
       "26       This movie is excellent and I would recommend ...\n",
       "27       Late, great Grade Z drive-in exploitation film...\n",
       "28       This early film has its flaws-- a predictable ...\n",
       "29       After having watched \"Guinea Pig\", two questio...\n",
       "                               ...                        \n",
       "24970    I really liked the movie. I remember reading i...\n",
       "24971    Not that much things happen in this movie but ...\n",
       "24972    This is a very, very early Bugs Bunny cartoon....\n",
       "24973    I cringed all the way through this movie. Firs...\n",
       "24974    This could be a cute movie for kids My grandso...\n",
       "24975    Coming of age movies are quite usual these day...\n",
       "24976    My what a director's intuition can bring on ma...\n",
       "24977    At times, this overtakes The Thing as my favou...\n",
       "24978    Pegg has had a few hits in the past few years,...\n",
       "24979    I have just seen this film, and fallen in love...\n",
       "24980    I jumped at the chance to view this movie uncu...\n",
       "24981    I almost called HBO and demanded my money back...\n",
       "24982    First of all, yes, animals have emotions. If y...\n",
       "24983    This film is so bad, you can't imagine. The ac...\n",
       "24984    It's easy to see how this below-average screen...\n",
       "24985    DRACULA 2000 is a horror film that was continu...\n",
       "24986    Rated E(Contains Violence).<br /><br />I had t...\n",
       "24987    I loved this movie. In fact I loved being an a...\n",
       "24988    I was living Rawlins when this movie was made ...\n",
       "24989    One of the best films I have seen in the past ...\n",
       "24990    Two sailors are on leave--ladies man Joseph Br...\n",
       "24991    \"Fraidy Cat\", the 4th of these cartoons, is a ...\n",
       "24992    I'm beginning to see a pattern in the movies I...\n",
       "24993    The direction had clearly stated that this fil...\n",
       "24994    This enjoyable minor noir boasts a top cast, a...\n",
       "24995    This is one lowly film. It has no real plot. W...\n",
       "24996    ***Possible Plot Spoilers***<br /><br />I ador...\n",
       "24997    This movie was terrible. The plot sucked, the ...\n",
       "24998    About 15 minutes in, my wife was already wanti...\n",
       "24999    I cannot vote on this because I wouldn't watch...\n",
       "Name: sentence, Length: 25000, dtype: object"
      ]
     },
     "execution_count": 3,
     "metadata": {},
     "output_type": "execute_result"
    }
   ],
   "source": [
    "train_df['sentence']"
   ]
  },
  {
   "cell_type": "code",
   "execution_count": 4,
   "metadata": {
    "scrolled": true
   },
   "outputs": [
    {
     "data": {
      "text/plain": [
       "0        0\n",
       "1        0\n",
       "2        1\n",
       "3        0\n",
       "4        0\n",
       "5        0\n",
       "6        1\n",
       "7        0\n",
       "8        1\n",
       "9        0\n",
       "10       1\n",
       "11       1\n",
       "12       0\n",
       "13       1\n",
       "14       1\n",
       "15       1\n",
       "16       1\n",
       "17       0\n",
       "18       0\n",
       "19       1\n",
       "20       0\n",
       "21       0\n",
       "22       1\n",
       "23       0\n",
       "24       1\n",
       "25       0\n",
       "26       1\n",
       "27       1\n",
       "28       1\n",
       "29       1\n",
       "        ..\n",
       "24970    1\n",
       "24971    1\n",
       "24972    1\n",
       "24973    0\n",
       "24974    0\n",
       "24975    1\n",
       "24976    1\n",
       "24977    1\n",
       "24978    1\n",
       "24979    1\n",
       "24980    0\n",
       "24981    0\n",
       "24982    0\n",
       "24983    0\n",
       "24984    0\n",
       "24985    0\n",
       "24986    1\n",
       "24987    1\n",
       "24988    1\n",
       "24989    1\n",
       "24990    1\n",
       "24991    1\n",
       "24992    0\n",
       "24993    0\n",
       "24994    1\n",
       "24995    0\n",
       "24996    0\n",
       "24997    0\n",
       "24998    0\n",
       "24999    0\n",
       "Name: polarity, Length: 25000, dtype: int64"
      ]
     },
     "execution_count": 4,
     "metadata": {},
     "output_type": "execute_result"
    }
   ],
   "source": [
    "train_df['polarity']"
   ]
  },
  {
   "cell_type": "markdown",
   "metadata": {},
   "source": [
    "### Model"
   ]
  },
  {
   "cell_type": "code",
   "execution_count": 5,
   "metadata": {},
   "outputs": [],
   "source": [
    "# Training input on the whole training set with no limit on training epochs.\n",
    "train_input_fn = tf.estimator.inputs.pandas_input_fn(\n",
    "    train_df, train_df[\"polarity\"], num_epochs=None, shuffle=True)\n",
    "# Prediction on the whole training set.\n",
    "predict_train_input_fn = tf.estimator.inputs.pandas_input_fn(\n",
    "    train_df, train_df[\"polarity\"], shuffle=False)\n",
    "# Prediction on the test set.\n",
    "predict_test_input_fn = tf.estimator.inputs.pandas_input_fn(\n",
    "    test_df, test_df[\"polarity\"], shuffle=False)"
   ]
  },
  {
   "cell_type": "markdown",
   "metadata": {},
   "source": [
    "### Get feature"
   ]
  },
  {
   "cell_type": "code",
   "execution_count": 6,
   "metadata": {},
   "outputs": [],
   "source": [
    "embedded_text_feature_column = hub.text_embedding_column(\n",
    "    key=\"sentence\", \n",
    "    module_spec=\"https://tfhub.dev/google/nnlm-en-dim128/1\")"
   ]
  },
  {
   "cell_type": "markdown",
   "metadata": {},
   "source": [
    "### Estimator"
   ]
  },
  {
   "cell_type": "code",
   "execution_count": 7,
   "metadata": {},
   "outputs": [],
   "source": [
    "estimator = tf.estimator.DNNClassifier(\n",
    "    hidden_units=[500, 100],\n",
    "    feature_columns=[embedded_text_feature_column],\n",
    "    n_classes=2,\n",
    "    optimizer=tf.train.AdagradOptimizer(learning_rate=0.003))"
   ]
  },
  {
   "cell_type": "markdown",
   "metadata": {},
   "source": [
    "### Training"
   ]
  },
  {
   "cell_type": "code",
   "execution_count": 8,
   "metadata": {},
   "outputs": [
    {
     "name": "stdout",
     "output_type": "stream",
     "text": [
      "Done.\n"
     ]
    }
   ],
   "source": [
    "# Training for 1,000 steps means 128,000 training examples with the default\n",
    "# batch size. This is roughly equivalent to 5 epochs since the training dataset\n",
    "# contains 25,000 examples.\n",
    "estimator.train(input_fn=train_input_fn, steps=1000)\n",
    "print (\"Done.\")"
   ]
  },
  {
   "cell_type": "markdown",
   "metadata": {},
   "source": [
    "### Prediction"
   ]
  },
  {
   "cell_type": "code",
   "execution_count": 9,
   "metadata": {},
   "outputs": [
    {
     "name": "stdout",
     "output_type": "stream",
     "text": [
      "Training set accuracy: 0.8000800013542175\n",
      "Test set accuracy: 0.7925999760627747\n"
     ]
    }
   ],
   "source": [
    "train_eval_result = estimator.evaluate(input_fn=predict_train_input_fn)\n",
    "test_eval_result = estimator.evaluate(input_fn=predict_test_input_fn)\n",
    "\n",
    "print(\"Training set accuracy: {accuracy}\".format(**train_eval_result))\n",
    "print(\"Test set accuracy: {accuracy}\".format(**test_eval_result))"
   ]
  },
  {
   "cell_type": "markdown",
   "metadata": {},
   "source": [
    "###  Confusion matrix"
   ]
  },
  {
   "cell_type": "code",
   "execution_count": 10,
   "metadata": {},
   "outputs": [
    {
     "data": {
      "image/png": "[encoded data removed]",
      "text/plain": [
       "<Figure size 432x288 with 2 Axes>"
      ]
     },
     "metadata": {},
     "output_type": "display_data"
    }
   ],
   "source": [
    "def get_predictions(estimator, input_fn):\n",
    "    return [x[\"class_ids\"][0] for x in estimator.predict(input_fn=input_fn)]\n",
    "\n",
    "LABELS = [\n",
    "    \"negative\", \"positive\"\n",
    "]\n",
    "\n",
    "# Create a confusion matrix on training data.\n",
    "with tf.Graph().as_default():\n",
    "    cm = tf.confusion_matrix(train_df[\"polarity\"], \n",
    "                           get_predictions(estimator, predict_train_input_fn))\n",
    "    with tf.Session() as session:\n",
    "        cm_out = session.run(cm)\n",
    "\n",
    "# Normalize the confusion matrix so that each row sums to 1.\n",
    "cm_out = cm_out.astype(float) / cm_out.sum(axis=1)[:, np.newaxis]\n",
    "sns.heatmap(cm_out, annot=True, xticklabels=LABELS, yticklabels=LABELS);\n",
    "plt.xlabel(\"Predicted\");\n",
    "plt.ylabel(\"True\");"
   ]
  },
  {
   "cell_type": "code",
   "execution_count": null,
   "metadata": {},
   "outputs": [],
   "source": []
  }
 ],
 "metadata": {
  "kernelspec": {
   "display_name": "Python 3",
   "language": "python",
   "name": "python3"
  },
  "language_info": {
   "codemirror_mode": {
    "name": "ipython",
    "version": 3
   },
   "file_extension": ".py",
   "mimetype": "text/x-python",
   "name": "python",
   "nbconvert_exporter": "python",
   "pygments_lexer": "ipython3",
   "version": "3.5.2"
  }
 },
 "nbformat": 4,
 "nbformat_minor": 2
}
