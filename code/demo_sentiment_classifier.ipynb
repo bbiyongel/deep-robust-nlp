{
 "cells": [
  {
   "cell_type": "markdown",
   "metadata": {},
   "source": [
    "### Text classifier (a simple sentiment classifier ) using Large Movie Review Dataset"
   ]
  },
  {
   "cell_type": "code",
   "execution_count": 1,
   "metadata": {},
   "outputs": [
    {
     "name": "stdout",
     "output_type": "stream",
     "text": [
      "Packages loaded.\n"
     ]
    }
   ],
   "source": [
    "import tensorflow as tf\n",
    "import tensorflow_hub as hub\n",
    "import matplotlib.pyplot as plt\n",
    "import numpy as np\n",
    "import os\n",
    "import pandas as pd\n",
    "import re\n",
    "import seaborn as sns\n",
    "print (\"Packages loaded.\")"
   ]
  },
  {
   "cell_type": "markdown",
   "metadata": {},
   "source": [
    "### Get dataset"
   ]
  },
  {
   "cell_type": "code",
   "execution_count": 2,
   "metadata": {},
   "outputs": [
    {
     "data": {
      "text/html": [
       "<div>\n",
       "<style scoped>\n",
       "    .dataframe tbody tr th:only-of-type {\n",
       "        vertical-align: middle;\n",
       "    }\n",
       "\n",
       "    .dataframe tbody tr th {\n",
       "        vertical-align: top;\n",
       "    }\n",
       "\n",
       "    .dataframe thead th {\n",
       "        text-align: right;\n",
       "    }\n",
       "</style>\n",
       "<table border=\"1\" class=\"dataframe\">\n",
       "  <thead>\n",
       "    <tr style=\"text-align: right;\">\n",
       "      <th></th>\n",
       "      <th>sentence</th>\n",
       "      <th>sentiment</th>\n",
       "      <th>polarity</th>\n",
       "    </tr>\n",
       "  </thead>\n",
       "  <tbody>\n",
       "    <tr>\n",
       "      <th>0</th>\n",
       "      <td>The Straight Story is a multilevel exploration...</td>\n",
       "      <td>10</td>\n",
       "      <td>1</td>\n",
       "    </tr>\n",
       "    <tr>\n",
       "      <th>1</th>\n",
       "      <td>I really liked this movie. Of course the idea ...</td>\n",
       "      <td>9</td>\n",
       "      <td>1</td>\n",
       "    </tr>\n",
       "    <tr>\n",
       "      <th>2</th>\n",
       "      <td>If you have ever seen a movie by Brian Avenet-...</td>\n",
       "      <td>1</td>\n",
       "      <td>0</td>\n",
       "    </tr>\n",
       "    <tr>\n",
       "      <th>3</th>\n",
       "      <td>If you delete the first twenty minutes or so o...</td>\n",
       "      <td>7</td>\n",
       "      <td>1</td>\n",
       "    </tr>\n",
       "    <tr>\n",
       "      <th>4</th>\n",
       "      <td>Oh dear, Oh dear. I started watching this not ...</td>\n",
       "      <td>1</td>\n",
       "      <td>0</td>\n",
       "    </tr>\n",
       "  </tbody>\n",
       "</table>\n",
       "</div>"
      ],
      "text/plain": [
       "                                            sentence sentiment  polarity\n",
       "0  The Straight Story is a multilevel exploration...        10         1\n",
       "1  I really liked this movie. Of course the idea ...         9         1\n",
       "2  If you have ever seen a movie by Brian Avenet-...         1         0\n",
       "3  If you delete the first twenty minutes or so o...         7         1\n",
       "4  Oh dear, Oh dear. I started watching this not ...         1         0"
      ]
     },
     "execution_count": 2,
     "metadata": {},
     "output_type": "execute_result"
    }
   ],
   "source": [
    "# Load all files from a directory in a DataFrame.\n",
    "def load_directory_data(directory):\n",
    "    data = {}\n",
    "    data[\"sentence\"] = []\n",
    "    data[\"sentiment\"] = []\n",
    "    for file_path in os.listdir(directory):\n",
    "        with tf.gfile.GFile(os.path.join(directory, file_path), \"r\") as f:\n",
    "            data[\"sentence\"].append(f.read())\n",
    "            data[\"sentiment\"].append(re.match(\"\\d+_(\\d+)\\.txt\", file_path).group(1))\n",
    "    return pd.DataFrame.from_dict(data)\n",
    "\n",
    "# Merge positive and negative examples, add a polarity column and shuffle.\n",
    "def load_dataset(directory):\n",
    "    pos_df = load_directory_data(os.path.join(directory, \"pos\"))\n",
    "    neg_df = load_directory_data(os.path.join(directory, \"neg\"))\n",
    "    pos_df[\"polarity\"] = 1\n",
    "    neg_df[\"polarity\"] = 0\n",
    "    return pd.concat([pos_df, neg_df]).sample(frac=1).reset_index(drop=True)\n",
    "\n",
    "# Download and process the dataset files.\n",
    "def download_and_load_datasets(force_download=False):\n",
    "    dataset = tf.keras.utils.get_file(\n",
    "        fname=\"aclImdb.tar.gz\", \n",
    "        origin=\"http://ai.stanford.edu/~amaas/data/sentiment/aclImdb_v1.tar.gz\", \n",
    "        extract=True)\n",
    "\n",
    "    train_df = load_dataset(os.path.join(os.path.dirname(dataset), \n",
    "                                       \"aclImdb\", \"train\"))\n",
    "    test_df = load_dataset(os.path.join(os.path.dirname(dataset), \n",
    "                                      \"aclImdb\", \"test\"))\n",
    "    return train_df, test_df\n",
    "\n",
    "# Reduce logging output.\n",
    "tf.logging.set_verbosity(tf.logging.ERROR)\n",
    "train_df, test_df = download_and_load_datasets()\n",
    "train_df.head()"
   ]
  },
  {
   "cell_type": "code",
   "execution_count": null,
   "metadata": {},
   "outputs": [],
   "source": []
  },
  {
   "cell_type": "code",
   "execution_count": 3,
   "metadata": {
    "scrolled": true
   },
   "outputs": [
    {
     "data": {
      "text/plain": [
       "0        The Straight Story is a multilevel exploration...\n",
       "1        I really liked this movie. Of course the idea ...\n",
       "2        If you have ever seen a movie by Brian Avenet-...\n",
       "3        If you delete the first twenty minutes or so o...\n",
       "4        Oh dear, Oh dear. I started watching this not ...\n",
       "5        Pretty disappointing prequel to the first two ...\n",
       "6        I saw the The Bourne Ultimatum last summer wit...\n",
       "7        Sondra Locke stinks in this film, but then she...\n",
       "8        This is the worst sequel on the face of the wo...\n",
       "9        This movie had to be the worst horror movie I ...\n",
       "10       I loved the story. Somewhere, a poster said th...\n",
       "11       Not sure why this film was advertised as a wil...\n",
       "12       Okay so i found out about this movie and I wat...\n",
       "13       Why this movie has all but disappeared into ob...\n",
       "14       Steven Spielberg (at 24) had already directed ...\n",
       "15       Spacecamp is my favorite movie. It is a great ...\n",
       "16       I've never actually seen this film but can tel...\n",
       "17       Whew. What can be said about Gymkata that hasn...\n",
       "18       Ah, the best and funniest movie about female f...\n",
       "19       So, I know that I voted 1 out of 10 but really...\n",
       "20       Scientist working frantically in seclusion fin...\n",
       "21       Why would anyone want to see this?! If this wa...\n",
       "22       I saw the German version of the movie in Germa...\n",
       "23       This Drummond entry is lacking in continuity. ...\n",
       "24       Imagine the worst A-team episode Add even more...\n",
       "25       This movie is simply wonderful! It's got it al...\n",
       "26       This movie was bad to say the least!!! The ple...\n",
       "27       Sogo Ishii can be a skilled filmmaker under th...\n",
       "28       Moonwalker is such a great movie, from start t...\n",
       "29       I first saw this movie in my plays & playwrigh...\n",
       "                               ...                        \n",
       "24970    First of all, this plot is way overdone - girl...\n",
       "24971    Hip. Erotic. Wickedly sexy ... whatever. It's ...\n",
       "24972    Hunters chase what they think is a man through...\n",
       "24973    This was a wonderfully clever and entertaining...\n",
       "24974    The 1980s TV show, updated with fresh female f...\n",
       "24975    ... when this movie so well proves that they i...\n",
       "24976    This rubbish excuse for television is the sing...\n",
       "24977    Stumbling upon this HBO special late one night...\n",
       "24978    I watched this movie with some friends a coupl...\n",
       "24979    After 'Aakrosh' , this was the second film for...\n",
       "24980    This movie grabbed me with the incredible open...\n",
       "24981    It just seems to run true to form, any movie s...\n",
       "24982    The trouble with the book, \"Memoirs of a Geish...\n",
       "24983    This has to be one of my favourite flicks, unl...\n",
       "24984    This is one of the most beautiful films I have...\n",
       "24985    You can do a lot with a little cash. Blair Wit...\n",
       "24986    \"54\" is a film based on the infamous \"Studio 5...\n",
       "24987    I just saw this movie (mainly because Brady Co...\n",
       "24988    i am rarely moved to make these kind of commen...\n",
       "24989    I loved watching the original Azumi with its m...\n",
       "24990    This movie was so great! I am a teenager, and ...\n",
       "24991    The charm of Otto Preminger's grandiose, visio...\n",
       "24992    VILLA RIDES (1968) turns out to be something o...\n",
       "24993    The original movie ( dated 19??)did not show a...\n",
       "24994    This is one of Disney's top five animated feat...\n",
       "24995    This film is absolutely horrific. One of the w...\n",
       "24996    I tried to watch this movie in a military camp...\n",
       "24997    The brilliant thing about Withnail & I is that...\n",
       "24998    I have to agree with MR. Caruso Jr Lanza,s was...\n",
       "24999    'Soapdish' is one of the best, yet least well ...\n",
       "Name: sentence, Length: 25000, dtype: object"
      ]
     },
     "execution_count": 3,
     "metadata": {},
     "output_type": "execute_result"
    }
   ],
   "source": [
    "train_df['sentence']"
   ]
  },
  {
   "cell_type": "code",
   "execution_count": 4,
   "metadata": {
    "scrolled": true
   },
   "outputs": [
    {
     "data": {
      "text/plain": [
       "0        1\n",
       "1        1\n",
       "2        0\n",
       "3        1\n",
       "4        0\n",
       "5        0\n",
       "6        1\n",
       "7        0\n",
       "8        0\n",
       "9        0\n",
       "10       1\n",
       "11       0\n",
       "12       0\n",
       "13       1\n",
       "14       1\n",
       "15       1\n",
       "16       0\n",
       "17       0\n",
       "18       1\n",
       "19       0\n",
       "20       1\n",
       "21       0\n",
       "22       1\n",
       "23       0\n",
       "24       0\n",
       "25       1\n",
       "26       0\n",
       "27       0\n",
       "28       1\n",
       "29       1\n",
       "        ..\n",
       "24970    0\n",
       "24971    0\n",
       "24972    0\n",
       "24973    1\n",
       "24974    0\n",
       "24975    1\n",
       "24976    0\n",
       "24977    1\n",
       "24978    0\n",
       "24979    1\n",
       "24980    1\n",
       "24981    0\n",
       "24982    0\n",
       "24983    1\n",
       "24984    1\n",
       "24985    1\n",
       "24986    0\n",
       "24987    0\n",
       "24988    0\n",
       "24989    0\n",
       "24990    1\n",
       "24991    1\n",
       "24992    0\n",
       "24993    0\n",
       "24994    1\n",
       "24995    0\n",
       "24996    0\n",
       "24997    1\n",
       "24998    1\n",
       "24999    1\n",
       "Name: polarity, Length: 25000, dtype: int64"
      ]
     },
     "execution_count": 4,
     "metadata": {},
     "output_type": "execute_result"
    }
   ],
   "source": [
    "train_df['polarity']"
   ]
  },
  {
   "cell_type": "code",
   "execution_count": null,
   "metadata": {},
   "outputs": [],
   "source": []
  },
  {
   "cell_type": "markdown",
   "metadata": {},
   "source": [
    "### Model"
   ]
  },
  {
   "cell_type": "code",
   "execution_count": 5,
   "metadata": {},
   "outputs": [],
   "source": [
    "# Training input on the whole training set with no limit on training epochs.\n",
    "train_input_fn = tf.estimator.inputs.pandas_input_fn(\n",
    "    train_df, train_df[\"polarity\"], num_epochs=None, shuffle=True)\n",
    "# Prediction on the whole training set.\n",
    "predict_train_input_fn = tf.estimator.inputs.pandas_input_fn(\n",
    "    train_df, train_df[\"polarity\"], shuffle=False)\n",
    "# Prediction on the test set.\n",
    "predict_test_input_fn = tf.estimator.inputs.pandas_input_fn(\n",
    "    test_df, test_df[\"polarity\"], shuffle=False)"
   ]
  },
  {
   "cell_type": "markdown",
   "metadata": {},
   "source": [
    "### Get feature"
   ]
  },
  {
   "cell_type": "code",
   "execution_count": 6,
   "metadata": {},
   "outputs": [],
   "source": [
    "embedded_text_feature_column = hub.text_embedding_column(\n",
    "    key=\"sentence\", \n",
    "    module_spec=\"https://tfhub.dev/google/nnlm-en-dim128/1\")"
   ]
  },
  {
   "cell_type": "code",
   "execution_count": null,
   "metadata": {},
   "outputs": [],
   "source": []
  },
  {
   "cell_type": "markdown",
   "metadata": {},
   "source": [
    "### Estimator"
   ]
  },
  {
   "cell_type": "code",
   "execution_count": 7,
   "metadata": {},
   "outputs": [],
   "source": [
    "estimator = tf.estimator.DNNClassifier(\n",
    "    hidden_units=[500, 100],\n",
    "    feature_columns=[embedded_text_feature_column],\n",
    "    n_classes=2,\n",
    "    optimizer=tf.train.AdagradOptimizer(learning_rate=0.003))"
   ]
  },
  {
   "cell_type": "markdown",
   "metadata": {},
   "source": [
    "### Training"
   ]
  },
  {
   "cell_type": "code",
   "execution_count": 8,
   "metadata": {},
   "outputs": [
    {
     "name": "stdout",
     "output_type": "stream",
     "text": [
      "Done.\n"
     ]
    }
   ],
   "source": [
    "# Training for 1,000 steps means 128,000 training examples with the default\n",
    "# batch size. This is roughly equivalent to 5 epochs since the training dataset\n",
    "# contains 25,000 examples.\n",
    "estimator.train(input_fn=train_input_fn, steps=1000)\n",
    "print (\"Done.\")"
   ]
  },
  {
   "cell_type": "markdown",
   "metadata": {},
   "source": [
    "### Prediction"
   ]
  },
  {
   "cell_type": "code",
   "execution_count": 9,
   "metadata": {},
   "outputs": [
    {
     "name": "stdout",
     "output_type": "stream",
     "text": [
      "Training set accuracy: 0.8001599907875061\n",
      "Test set accuracy: 0.7898399829864502\n"
     ]
    }
   ],
   "source": [
    "train_eval_result = estimator.evaluate(input_fn=predict_train_input_fn)\n",
    "test_eval_result = estimator.evaluate(input_fn=predict_test_input_fn)\n",
    "\n",
    "print(\"Training set accuracy: {accuracy}\".format(**train_eval_result))\n",
    "print(\"Test set accuracy: {accuracy}\".format(**test_eval_result))"
   ]
  },
  {
   "cell_type": "markdown",
   "metadata": {},
   "source": [
    "###  Confusion matrix"
   ]
  },
  {
   "cell_type": "code",
   "execution_count": 10,
   "metadata": {},
   "outputs": [
    {
     "data": {
      "image/png": "[encoded data removed]",
      "text/plain": [
       "<Figure size 432x288 with 2 Axes>"
      ]
     },
     "metadata": {},
     "output_type": "display_data"
    }
   ],
   "source": [
    "def get_predictions(estimator, input_fn):\n",
    "    return [x[\"class_ids\"][0] for x in estimator.predict(input_fn=input_fn)]\n",
    "\n",
    "LABELS = [\n",
    "    \"negative\", \"positive\"\n",
    "]\n",
    "\n",
    "# Create a confusion matrix on training data.\n",
    "with tf.Graph().as_default():\n",
    "    cm = tf.confusion_matrix(train_df[\"polarity\"], \n",
    "                           get_predictions(estimator, predict_train_input_fn))\n",
    "    with tf.Session() as session:\n",
    "        cm_out = session.run(cm)\n",
    "\n",
    "# Normalize the confusion matrix so that each row sums to 1.\n",
    "cm_out = cm_out.astype(float) / cm_out.sum(axis=1)[:, np.newaxis]\n",
    "sns.heatmap(cm_out, annot=True, xticklabels=LABELS, yticklabels=LABELS);\n",
    "plt.xlabel(\"Predicted\");\n",
    "plt.ylabel(\"True\");"
   ]
  },
  {
   "cell_type": "code",
   "execution_count": null,
   "metadata": {},
   "outputs": [],
   "source": []
  }
 ],
 "metadata": {
  "kernelspec": {
   "display_name": "Python 3",
   "language": "python",
   "name": "python3"
  },
  "language_info": {
   "codemirror_mode": {
    "name": "ipython",
    "version": 3
   },
   "file_extension": ".py",
   "mimetype": "text/x-python",
   "name": "python",
   "nbconvert_exporter": "python",
   "pygments_lexer": "ipython3",
   "version": "3.5.2"
  }
 },
 "nbformat": 4,
 "nbformat_minor": 2
}
